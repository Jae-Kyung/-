{
 "cells": [
  {
   "cell_type": "markdown",
   "id": "13f27e7c",
   "metadata": {},
   "source": [
    "# 인공신경망 회귀\n",
    "인공신경망을 활용하여 회귀함수 추정 문제를 다루려고 한다. \n",
    "인공신경망을 활용하여 회귀 문제를 다루는 경우 인공신경망 방법론의 추정 및 예측 성능에 영향을 미치는 요소들 (활성화 함수, 훈련 알고리즘, 초기값 등)이 상당히 많은데, 여기서는 최대한 간단한 경우를 다루겠다.\n",
    "먼저, 하나의 은닉층으로 구성된 인공신경망을 활용할 것인데, 수식으로 다음과 같이 표현할 수 있다.\n",
    "\n",
    "$$\n",
    "\\mathsf{s}_{\\theta}(x) = \\beta_0 + \\sum_{m=1}^M \\beta_m \\sigma(b_m + w_m^{\\top} x), \\quad x \\in \\mathbb{R}^p.\n",
    "$$\n",
    "\n",
    "여기서 $b_m \\in \\mathbb{R}$, $w_m \\in \\mathbb{R}^p$, $\\beta_0 \\in \\mathbb{R}$, $\\beta_m \\in \\mathbb{R}$ 이며, $\\theta$ 는 인공신경망을 구성하는 계수들을 모아놓은 벡터로 이해할 수 있다. \n",
    "$\\sigma$ 는 활성화 함수를 나타내며, 대표적으로 ReLU, Sigmoid function 등이 있다. 경우에 따라 문제에 맞는 활성화 함수를 정의할 수도 있을 것이다. \n",
    "참고로 입력 노드의 수는 $p$, 은닉 노드의 수는 $M$, 출력 노드의 수는 $1$ 이다. \n",
    "은닉 노드의 수 $M$ 에 따라 인공신경망의 복잡도가 결정되는 경우가 많긴 하지만, 이 복잡도가 추정량에 직결되어 전달되진 않는다..\n",
    "그 예로 아주 큰 $M$ 을 설정하여도 초기값, 훈련 알고리즘 등에 따라 이 복잡도가 추정량에 담기지 않을 수 있기 때문이다.\n",
    "\n",
    "데이터 $\\{(x_i, y_i\\}_{i=1}^n$ 가 주어진 경우, 이 데이터를 잘 설명하는 인공신경망 계수를 찾아 인공신경망 회귀 추정량을 계산할 수 있다.\n",
    "먼저 손실함수를 다음과 같이 정의하도록 하자.\n",
    "\n",
    "$$\n",
    "R(\\theta) = \\sum_{i=1}^n \\left(y_i - \\mathsf{s}_{\\theta}(x_i) \\right)^2\n",
    "$$\n",
    "\n",
    "다음 손실함수를 최소화하는 계수를 \n",
    "\n",
    "$$\n",
    "\\hat{\\theta} = \\text{argmin} R(\\theta)\n",
    "$$\n",
    "\n",
    "로 정의하기로 하자 (사실 정확한 수식적 표현은 아니다..). \n",
    "인공신경망 회귀 추정량은\n",
    "\n",
    "$$\n",
    "\\hat{f} = \\mathsf{s}_{\\hat{\\theta}} = \\hat{\\beta}_0 + \\sum_{m=1}^M \\hat{\\beta}_m \\sigma(\\hat{b}_m + \\hat{w}_m^{\\top} x)\n",
    "$$\n",
    "으로 정의할 수 있다. \n",
    "\n",
    "Python 패키지 중 하나인 Pytorch 를 통해 이를 구현해보자! "
   ]
  },
  {
   "cell_type": "markdown",
   "id": "9d3cc5e6",
   "metadata": {},
   "source": [
    "## 데이터 생성\n",
    "간단한 예제로 1차원 회귀함수 추정 문제를 다루고 이를 시각화해보려고 한다. 목표는 데이터 관계를 나타내는 회귀함수 (붉은 실선) 를 데이터 (회색 점) 을 활용하여 추정하는 것이다."
   ]
  },
  {
   "cell_type": "code",
   "execution_count": 25,
   "id": "33fa96c8",
   "metadata": {},
   "outputs": [
    {
     "data": {
      "image/png": "[encoded data removed]",
      "text/plain": [
       "<Figure size 432x432 with 1 Axes>"
      ]
     },
     "metadata": {
      "needs_background": "light"
     },
     "output_type": "display_data"
    }
   ],
   "source": [
    "import numpy as np\n",
    "import torch\n",
    "import torch.optim as optim\n",
    "import matplotlib.pyplot as plt\n",
    "# random seed 설정\n",
    "torch.manual_seed(1)\n",
    "# data genreation\n",
    "n = 1600\n",
    "p = 1\n",
    "x = torch.zeros((n, p))\n",
    "for j in range(p):\n",
    "    x[:, j] = torch.linspace(0.0, 1.0, n)\n",
    "f = 2 + 3 * torch.sin(2 * torch.pi * x[:, 0])\n",
    "y = f + np.random.normal(0, 1, size = n)\n",
    "plt.figure(figsize = (6, 6))\n",
    "plt.scatter(x, y, s = 3, color = 'silver')\n",
    "plt.plot(x, f, color = 'red')\n",
    "plt.show()"
   ]
  },
  {
   "cell_type": "markdown",
   "id": "fac88518",
   "metadata": {},
   "source": [
    "## Pytorch 활용한 인공신경망 회귀적합\n",
    "Pytorch 를 활용하여 인공신경망을 훈련하려고 하는데, 여기서 활성화 함수로 ReLU, 훈련 알고리즘으로 Adam 알고리즘을 이용하였다.\n",
    "Adam 알고리즘의 학습률을 보통 작게 설정하는 것이 안정적으로 알려져 있는데, 여기서는 인공신경망이 깊지 않기 때문에 $0.1$ 로 설정하였고 안정적으로 훈련하는 것 또한 확인할 수 있었다.\n",
    "노드의 수 $M$ 은 $50$ 으로 설정하였다. "
   ]
  },
  {
   "cell_type": "code",
   "execution_count": 31,
   "id": "0daef2ae",
   "metadata": {},
   "outputs": [
    {
     "name": "stdout",
     "output_type": "stream",
     "text": [
      "100 / 1000 th interation runs\n",
      "cost = 1.2284194146106493\n",
      "200 / 1000 th interation runs\n",
      "cost = 1.035155620023861\n",
      "300 / 1000 th interation runs\n",
      "cost = 1.0323905795079658\n",
      "400 / 1000 th interation runs\n",
      "cost = 1.0316437814387323\n",
      "500 / 1000 th interation runs\n",
      "cost = 1.0313329613153832\n",
      "600 / 1000 th interation runs\n",
      "cost = 1.0312013788798355\n",
      "700 / 1000 th interation runs\n",
      "cost = 1.0311441703693607\n",
      "800 / 1000 th interation runs\n",
      "cost = 1.0310972700783718\n",
      "900 / 1000 th interation runs\n",
      "cost = 1.0330529594495192\n",
      "1000 / 1000 th interation runs\n",
      "cost = 1.0482944547017612\n"
     ]
    }
   ],
   "source": [
    "from functions.Activations import *\n",
    "# random seed 설정\n",
    "torch.manual_seed(1)\n",
    "## model: beta_0 + \\sum_m beta_m act( b_m + w_m * x) \n",
    "## 계수 선언\n",
    "M = 50\n",
    "const = torch.randn(1, requires_grad = True)\n",
    "beta = torch.randn(M, requires_grad = True)\n",
    "W = torch.randn((p, M), requires_grad = True)\n",
    "b = torch.randn((1, M), requires_grad = True)\n",
    "optimizer = optim.Adam([beta, W, b], lr = 0.1)\n",
    "act = relu\n",
    "# 훈련 시작\n",
    "n_iter = 1000\n",
    "for i in range(n_iter):\n",
    "    plane = b + x.matmul(W)\n",
    "    act_plane = act(plane)\n",
    "    model = const + act_plane.matmul(beta)\n",
    "    obj = torch.mean((y - model) ** 2)\n",
    "    \n",
    "    optimizer.zero_grad()\n",
    "    obj.backward()\n",
    "    optimizer.step()\n",
    "    if (i + 1) % 100 == 0:\n",
    "        print(i + 1, \"/\", n_iter, 'th interation runs')\n",
    "        print(\"cost =\", obj.item())"
   ]
  },
  {
   "cell_type": "markdown",
   "id": "db02318e",
   "metadata": {},
   "source": [
    "## 적합 시각화"
   ]
  },
  {
   "cell_type": "code",
   "execution_count": null,
   "id": "e8d812ee",
   "metadata": {},
   "outputs": [],
   "source": [
    "# fitted values\n",
    "plane = b + x.matmul(W)\n",
    "act_plane = act(plane)\n",
    "fitted_values = const + act_plane.matmul(beta)\n",
    "fitted_values = fitted_values.detach()\n",
    "# visualization\n",
    "plt.figure(figsize = (6, 6))\n",
    "plt.scatter(x, y, s = 3, color = 'silver')\n",
    "plt.plot(x, f, 'r', linestyle = '--')\n",
    "plt.plot(x, fitted_values, 'black')\n",
    "plt.show()"
   ]
  }
 ],
 "metadata": {
  "kernelspec": {
   "display_name": "Python 3",
   "language": "python",
   "name": "python3"
  },
  "language_info": {
   "codemirror_mode": {
    "name": "ipython",
    "version": 3
   },
   "file_extension": ".py",
   "mimetype": "text/x-python",
   "name": "python",
   "nbconvert_exporter": "python",
   "pygments_lexer": "ipython3",
   "version": "3.8.8"
  }
 },
 "nbformat": 4,
 "nbformat_minor": 5
}

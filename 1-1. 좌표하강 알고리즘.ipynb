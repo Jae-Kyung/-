{
 "cells": [
  {
   "cell_type": "markdown",
   "id": "731c1b37",
   "metadata": {},
   "source": [
    "# 좌표하강 알고리즘 (Coordinate Descent Algorithm)\n",
    "잔차제곱합에 기반한 목적함수를 다음과 같이 정의하자.\n",
    "$$\n",
    "R(\\beta) = \\sum_{i=1}^n \\left(y_i - \\sum_{j=1}^p \\beta_j x_{ij} \\right)^2\n",
    "$$\n",
    "해당 목적함수를 최소화하기 위해 최소제곱법을 활용할 수도 있지만 좌표하강 알고리즘을 활용할 수도 있다. \n",
    "좌표하강 알고리즘은 하나의 계수를 제외한 나머지 계수들을 고정한 채, 하나씩 차례로 갱신하는 알고리즘으로 이해할 수 있다.\n",
    "즉, 좌표하강 알고리즘은 일차원 최소화 문제를 차례로 해결하는 것이며, 다음 식을 통해 계수들이 갱신된다.\n",
    "\\begin{equation}\n",
    "\\tilde{\\beta}_k \\leftarrow \\text{argmin}_{\\beta_k} \\sum_{i=1}^n \\left(y_i - \\sum_{j \\neq k}^p \\tilde{\\beta}_j x_{ij} - \\beta_k x_{ik} \\right)^2,\n",
    "\\quad k = 1, \\cdots, p\n",
    "\\end{equation}\n",
    "좌표하강 알고리즘은 일차원 문제를 차례로 해결하므로, 상대적으로 문제를 해결하기 쉽고 역행렬을 구하지 않아도 된다. \n",
    "또한, $\\ell_1$-길이 유형의 정규화 방법에 기반한 문제를 해결하는 경우, 해당 알고리즘의 유용성이 극대화된다."
   ]
  },
  {
   "cell_type": "markdown",
   "id": "684f8bc9",
   "metadata": {},
   "source": [
    "## 일차원 최소화 문제\n",
    "먼저 공식을 구체화하면 된다. 깔끔한 공식 유도를 위해 \n",
    "$$\n",
    "r_{ik} = y_i - \\sum_{j \\neq k}^p \\tilde{\\beta}_j x_{ij} \\quad \\text{and} \\quad  \n",
    "z_{ik} = x_{ik}\n",
    "$$\n",
    "라 하자. \n",
    "그러면 일차원 최소화 문제는 다음과 같다.\n",
    "$$\n",
    "\\text{argmin}_{\\beta_k} \\sum_{i=1}^n \\left(r_{ik} - \\beta_k z_{ik} \\right)^2, \\quad k = 1, \\cdots, p\n",
    "$$\n",
    "이 문제는 일차원 quadratic form 의 최적화 문제를 해결하는 것과 동일하고, 각 계수를 \n",
    "$$\n",
    "\\tilde{\\beta}_k \\leftarrow \\frac{\\sum_{i=1}^n r_{ik} z_{ik}}{\\sum_{i=1}^n z_{ik}^2}, \\quad k = 1, \\cdots, p\n",
    "$$\n",
    "로 갱신한다."
   ]
  },
  {
   "cell_type": "markdown",
   "id": "5c9c824d",
   "metadata": {},
   "source": [
    "# 코드\n",
    "코드를 작성할 때, 모듈을 세분화하여 각 모듈이 잘 작동하는지 확인하는 것이 중요하다고 생각한다.\n",
    "이 작업을 수행하지 않으면 디버깅에 어려움을 겪을 수 있으며, 코드를 처음부터 다시 작성해야할 수도 있다.\n",
    "코드를 작성하기 전, 세분화를 어떻게 할 것인지 설계를 해보는 것도 좋을 것이라 생각한다.\n",
    "여기서는 예제로 갱신 공식을 모듈로 가정하고 테스트하는 작업을 간단하게 진행하였고 바로 좌표하강 알고리즘 코드를 작성하였다.\n",
    "### 1. 갱신 공식"
   ]
  },
  {
   "cell_type": "code",
   "execution_count": 95,
   "id": "b2c6ae97",
   "metadata": {},
   "outputs": [],
   "source": [
    "import numpy as np\n",
    "def solution_cda(z, r):\n",
    "    if not all(z):\n",
    "        return 0\n",
    "    else:\n",
    "        return sum(r * z) / sum(z * z)"
   ]
  },
  {
   "cell_type": "markdown",
   "id": "1e43313a",
   "metadata": {},
   "source": [
    "### 테스트\n",
    "코드를 작성한 후에 간단한 setup 을 설정하고 코드가 맞게 작성되었는지 확인한다.\n",
    "다음을 가정하자. \n",
    "$$\n",
    "r = (1, 2, 3) \\quad \\text{and} \\quad z = (1, 1, 1)\n",
    "$$\n",
    "그러면 \n",
    "$$\n",
    "\\sum_{i=1}^n r_ik z_ik = 1 + 2 + 3 = 6\n",
    "\\quad\n",
    "\\text{and}\n",
    "\\quad\n",
    "\\sum_{i=1}^n z_ik^2 = 1 + 1 + 1 = 3 \n",
    "$$\n",
    "이고 solution_cda 함수의 반환값은 \n",
    "$$\n",
    "\\frac{6}{3} = 2 \n",
    "$$\n",
    "가 되어야 한다. "
   ]
  },
  {
   "cell_type": "code",
   "execution_count": 96,
   "id": "81726aee",
   "metadata": {},
   "outputs": [
    {
     "name": "stdout",
     "output_type": "stream",
     "text": [
      "2.0\n"
     ]
    }
   ],
   "source": [
    "r = np.array([1, 2, 3])\n",
    "z = np.array([1, 1, 1])\n",
    "print(solution_cda(z, r))"
   ]
  },
  {
   "cell_type": "markdown",
   "id": "2baa9e68",
   "metadata": {},
   "source": [
    "## 2. 좌표하강 알고리즘\n",
    "모든 계수들이 한 차례 갱신되는 경우, 한 번의 반복으로 간주한다. \n",
    "반복을 진행하며, 최소화해야하는 목적함수의 변화량이 적은 경우 반복을 멈추는 좌표하강 알고리즘 코드를 작성하였다."
   ]
  },
  {
   "cell_type": "code",
   "execution_count": 112,
   "id": "e3544b93",
   "metadata": {},
   "outputs": [],
   "source": [
    "def cda(x, y, n_iter = 1000, thres = 1e-08):\n",
    "    n, p = x.shape\n",
    "    beta = np.zeros(p)\n",
    "    fitted_values = np.dot(x, beta)\n",
    "    residuals = y - fitted_values\n",
    "    rss_before = sum(residuals * residuals)\n",
    "    for iter in range(n_iter):\n",
    "        print(iter, \"th iteration runs\")\n",
    "        for j in range(p):\n",
    "            z = x[:, j]\n",
    "            r = residuals + beta[j] * z\n",
    "            beta[j] = solution_cda(z, r)\n",
    "            residuals = r - beta[j] * z\n",
    "        rss = sum(residuals * residuals)\n",
    "        print(\"rss =\", round(rss, 5), \"\\n\")\n",
    "        if rss_before - rss < thres:\n",
    "            break\n",
    "        else:\n",
    "            rss_before = rss\n",
    "    return beta"
   ]
  },
  {
   "cell_type": "markdown",
   "id": "789c5301",
   "metadata": {},
   "source": [
    "### 테스트\n",
    "간단하게 회귀 문제를 통해 테스트를 진행했다. \n",
    "다음 회귀모형으로부터 데이터를 생성하였다.\n",
    "$$\n",
    "y_i = 2 x_{i1} + 3 x_{i2} + \\varepsilon_i, \\quad i = 1, \\ldots, 200\n",
    "$$\n",
    "여기서 좌표하강 알고리즘을 통해 계산한 계수 추정치가 (2, 3) 에 가까워지는지 확인해보았다.\n",
    "$20$ 번의 반복만에 (2, 3) 으로 수렴한 것을 다음 코드로부터 확인할 수 있다. "
   ]
  },
  {
   "cell_type": "code",
   "execution_count": 118,
   "id": "9adb2d09",
   "metadata": {},
   "outputs": [],
   "source": [
    "# 데이터 생성\n",
    "np.random.seed(1)\n",
    "n = 200\n",
    "p = 2\n",
    "x = np.zeros(n * p).reshape(n, p)\n",
    "for j in range(p):\n",
    "    x[:, j] = np.random.uniform(0, 1, n)\n",
    "f = 2 * x[:, 0] + 3 * x[:, 1]\n",
    "y = f + np.random.normal(0, 0.01, n)"
   ]
  },
  {
   "cell_type": "code",
   "execution_count": 119,
   "id": "3a8b4a6b",
   "metadata": {},
   "outputs": [
    {
     "name": "stdout",
     "output_type": "stream",
     "text": [
      "0 th iteration runs\n",
      "rss = 161.73395 \n",
      "\n",
      "1 th iteration runs\n",
      "rss = 46.54467 \n",
      "\n",
      "2 th iteration runs\n",
      "rss = 13.40528 \n",
      "\n",
      "3 th iteration runs\n",
      "rss = 3.87124 \n",
      "\n",
      "4 th iteration runs\n",
      "rss = 1.12834 \n",
      "\n",
      "5 th iteration runs\n",
      "rss = 0.33922 \n",
      "\n",
      "6 th iteration runs\n",
      "rss = 0.1122 \n",
      "\n",
      "7 th iteration runs\n",
      "rss = 0.04688 \n",
      "\n",
      "8 th iteration runs\n",
      "rss = 0.02809 \n",
      "\n",
      "9 th iteration runs\n",
      "rss = 0.02269 \n",
      "\n",
      "10 th iteration runs\n",
      "rss = 0.02113 \n",
      "\n",
      "11 th iteration runs\n",
      "rss = 0.02068 \n",
      "\n",
      "12 th iteration runs\n",
      "rss = 0.02055 \n",
      "\n",
      "13 th iteration runs\n",
      "rss = 0.02052 \n",
      "\n",
      "14 th iteration runs\n",
      "rss = 0.02051 \n",
      "\n",
      "15 th iteration runs\n",
      "rss = 0.0205 \n",
      "\n",
      "16 th iteration runs\n",
      "rss = 0.0205 \n",
      "\n",
      "17 th iteration runs\n",
      "rss = 0.0205 \n",
      "\n",
      "18 th iteration runs\n",
      "rss = 0.0205 \n",
      "\n",
      "19 th iteration runs\n",
      "rss = 0.0205 \n",
      "\n",
      "20 th iteration runs\n",
      "rss = 0.0205 \n",
      "\n",
      "[2.00143933 2.99872477]\n"
     ]
    }
   ],
   "source": [
    "print(cda(x, y))"
   ]
  }
 ],
 "metadata": {
  "kernelspec": {
   "display_name": "Python 3",
   "language": "python",
   "name": "python3"
  },
  "language_info": {
   "codemirror_mode": {
    "name": "ipython",
    "version": 3
   },
   "file_extension": ".py",
   "mimetype": "text/x-python",
   "name": "python",
   "nbconvert_exporter": "python",
   "pygments_lexer": "ipython3",
   "version": "3.8.8"
  }
 },
 "nbformat": 4,
 "nbformat_minor": 5
}
